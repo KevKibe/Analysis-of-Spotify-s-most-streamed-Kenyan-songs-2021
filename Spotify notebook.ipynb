{
 "cells": [
  {
   "cell_type": "markdown",
   "id": "5f9cc5ef",
   "metadata": {},
   "source": [
    "# Importing Libraries"
   ]
  },
  {
   "cell_type": "code",
   "execution_count": 149,
   "id": "ae3db1b6",
   "metadata": {},
   "outputs": [],
   "source": [
    "import spotipy\n",
    "from spotipy.oauth2 import SpotifyClientCredentials\n",
    "import pandas as pd\n",
    "import time \n",
    "import numpy as np\n",
    "import seaborn as sns\n",
    "import matplotlib.pyplot as plt\n",
    "import statistics as statistics"
   ]
  },
  {
   "cell_type": "markdown",
   "id": "79fb382c",
   "metadata": {},
   "source": [
    "# Conncting to the API"
   ]
  },
  {
   "cell_type": "code",
   "execution_count": 150,
   "id": "2ee7a58f",
   "metadata": {},
   "outputs": [],
   "source": [
    "client_credentials_manager = SpotifyClientCredentials(client_id='CLIENT ID', client_secret='SECRET ID')\n",
    "sp = spotipy.Spotify(client_credentials_manager = client_credentials_manager)"
   ]
  },
  {
   "cell_type": "code",
   "execution_count": 151,
   "id": "d8eb75bd",
   "metadata": {},
   "outputs": [],
   "source": [
    "#Function to get track ID in the playlist\n",
    "def getTrackIDs(playlist_id):\n",
    "    ids = []\n",
    "    playlist = sp.playlist(playlist_id)\n",
    "    for item in playlist['tracks']['items']:\n",
    "        track = item['track']\n",
    "        ids.append(track['id'])\n",
    "    return ids\n",
    "\n",
    "ids = getTrackIDs('37i9dQZF1DWUXSVcZljKtz')"
   ]
  },
  {
   "cell_type": "code",
   "execution_count": 18,
   "id": "3cb1f23f",
   "metadata": {},
   "outputs": [
    {
     "name": "stdout",
     "output_type": "stream",
     "text": [
      "50\n"
     ]
    }
   ],
   "source": [
    "print(len(ids))"
   ]
  },
  {
   "cell_type": "code",
   "execution_count": 152,
   "id": "6deeb4d2",
   "metadata": {},
   "outputs": [],
   "source": [
    "#Function to get track metadata and features\n",
    "def getTrackFeatures(id):\n",
    "    meta = sp.track(id)\n",
    "    features = sp.audio_features(id)\n",
    "\n",
    "    # meta\n",
    "    name = meta['name']\n",
    "    length = meta['duration_ms']\n",
    "    popularity = meta['popularity']\n",
    "\n",
    "    # features\n",
    "    acousticness = features[0]['acousticness']\n",
    "    danceability = features[0]['danceability']\n",
    "    energy = features[0]['energy']\n",
    "    instrumentalness = features[0]['instrumentalness']\n",
    "    liveness = features[0]['liveness']\n",
    "    loudness = features[0]['loudness']\n",
    "    speechiness = features[0]['speechiness']\n",
    "    tempo = features[0]['tempo']\n",
    "    valence= features[0]['valence']\n",
    "    time_signature = features[0]['time_signature']\n",
    "\n",
    "    track = [name, popularity, danceability, acousticness, danceability, energy, instrumentalness, liveness, loudness, speechiness, tempo, valence, time_signature]\n",
    "    return track"
   ]
  },
  {
   "cell_type": "code",
   "execution_count": 153,
   "id": "e227871d",
   "metadata": {},
   "outputs": [],
   "source": [
    "# loop over track ids \n",
    "tracks = []\n",
    "for i in range(len(ids)):\n",
    "    time.sleep(.5)\n",
    "    track = getTrackFeatures(ids[i])\n",
    "    tracks.append(track)\n",
    "\n",
    "# create dataset\n",
    "df = pd.DataFrame(tracks, columns = ['name','length', 'popularity', 'danceability', 'acousticness', 'energy', 'instrumentalness', 'liveness', 'loudness', 'speechiness', 'tempo','valence', 'time_signature'])\n",
    "df.to_csv(\"spotify.csv\", sep = ',')"
   ]
  },
  {
   "cell_type": "markdown",
   "id": "81d1fe21",
   "metadata": {},
   "source": [
    "# Exploring the Data"
   ]
  },
  {
   "cell_type": "code",
   "execution_count": 154,
   "id": "ce87c6c6",
   "metadata": {},
   "outputs": [
    {
     "data": {
      "text/html": [
       "<div>\n",
       "<style scoped>\n",
       "    .dataframe tbody tr th:only-of-type {\n",
       "        vertical-align: middle;\n",
       "    }\n",
       "\n",
       "    .dataframe tbody tr th {\n",
       "        vertical-align: top;\n",
       "    }\n",
       "\n",
       "    .dataframe thead th {\n",
       "        text-align: right;\n",
       "    }\n",
       "</style>\n",
       "<table border=\"1\" class=\"dataframe\">\n",
       "  <thead>\n",
       "    <tr style=\"text-align: right;\">\n",
       "      <th></th>\n",
       "      <th>name</th>\n",
       "      <th>length</th>\n",
       "      <th>popularity</th>\n",
       "      <th>danceability</th>\n",
       "      <th>acousticness</th>\n",
       "      <th>energy</th>\n",
       "      <th>instrumentalness</th>\n",
       "      <th>liveness</th>\n",
       "      <th>loudness</th>\n",
       "      <th>speechiness</th>\n",
       "      <th>tempo</th>\n",
       "      <th>valence</th>\n",
       "      <th>time_signature</th>\n",
       "    </tr>\n",
       "  </thead>\n",
       "  <tbody>\n",
       "    <tr>\n",
       "      <th>11</th>\n",
       "      <td>Birthday Song</td>\n",
       "      <td>19</td>\n",
       "      <td>0.641</td>\n",
       "      <td>0.1210</td>\n",
       "      <td>0.641</td>\n",
       "      <td>0.555</td>\n",
       "      <td>0.000000</td>\n",
       "      <td>0.1210</td>\n",
       "      <td>-10.855</td>\n",
       "      <td>0.1120</td>\n",
       "      <td>76.492</td>\n",
       "      <td>0.785</td>\n",
       "      <td>4</td>\n",
       "    </tr>\n",
       "    <tr>\n",
       "      <th>10</th>\n",
       "      <td>Suzanna</td>\n",
       "      <td>40</td>\n",
       "      <td>0.796</td>\n",
       "      <td>0.3290</td>\n",
       "      <td>0.796</td>\n",
       "      <td>0.786</td>\n",
       "      <td>0.000003</td>\n",
       "      <td>0.1020</td>\n",
       "      <td>-5.702</td>\n",
       "      <td>0.0490</td>\n",
       "      <td>101.996</td>\n",
       "      <td>0.758</td>\n",
       "      <td>4</td>\n",
       "    </tr>\n",
       "    <tr>\n",
       "      <th>12</th>\n",
       "      <td>Pombe Sigara</td>\n",
       "      <td>30</td>\n",
       "      <td>0.701</td>\n",
       "      <td>0.2110</td>\n",
       "      <td>0.701</td>\n",
       "      <td>0.546</td>\n",
       "      <td>0.000624</td>\n",
       "      <td>0.0733</td>\n",
       "      <td>-12.320</td>\n",
       "      <td>0.1610</td>\n",
       "      <td>90.978</td>\n",
       "      <td>0.507</td>\n",
       "      <td>4</td>\n",
       "    </tr>\n",
       "    <tr>\n",
       "      <th>35</th>\n",
       "      <td>Sota</td>\n",
       "      <td>27</td>\n",
       "      <td>0.826</td>\n",
       "      <td>0.0563</td>\n",
       "      <td>0.826</td>\n",
       "      <td>0.792</td>\n",
       "      <td>0.000213</td>\n",
       "      <td>0.0580</td>\n",
       "      <td>-4.496</td>\n",
       "      <td>0.0515</td>\n",
       "      <td>100.012</td>\n",
       "      <td>0.432</td>\n",
       "      <td>4</td>\n",
       "    </tr>\n",
       "    <tr>\n",
       "      <th>40</th>\n",
       "      <td>Avoid Those People ft. Boutross, Breeder LW, A...</td>\n",
       "      <td>33</td>\n",
       "      <td>0.841</td>\n",
       "      <td>0.4560</td>\n",
       "      <td>0.841</td>\n",
       "      <td>0.635</td>\n",
       "      <td>0.000000</td>\n",
       "      <td>0.0524</td>\n",
       "      <td>-6.446</td>\n",
       "      <td>0.3580</td>\n",
       "      <td>141.897</td>\n",
       "      <td>0.643</td>\n",
       "      <td>4</td>\n",
       "    </tr>\n",
       "  </tbody>\n",
       "</table>\n",
       "</div>"
      ],
      "text/plain": [
       "                                                 name  length  popularity  \\\n",
       "11                                      Birthday Song      19       0.641   \n",
       "10                                            Suzanna      40       0.796   \n",
       "12                                       Pombe Sigara      30       0.701   \n",
       "35                                               Sota      27       0.826   \n",
       "40  Avoid Those People ft. Boutross, Breeder LW, A...      33       0.841   \n",
       "\n",
       "    danceability  acousticness  energy  instrumentalness  liveness  loudness  \\\n",
       "11        0.1210         0.641   0.555          0.000000    0.1210   -10.855   \n",
       "10        0.3290         0.796   0.786          0.000003    0.1020    -5.702   \n",
       "12        0.2110         0.701   0.546          0.000624    0.0733   -12.320   \n",
       "35        0.0563         0.826   0.792          0.000213    0.0580    -4.496   \n",
       "40        0.4560         0.841   0.635          0.000000    0.0524    -6.446   \n",
       "\n",
       "    speechiness    tempo  valence  time_signature  \n",
       "11       0.1120   76.492    0.785               4  \n",
       "10       0.0490  101.996    0.758               4  \n",
       "12       0.1610   90.978    0.507               4  \n",
       "35       0.0515  100.012    0.432               4  \n",
       "40       0.3580  141.897    0.643               4  "
      ]
     },
     "execution_count": 154,
     "metadata": {},
     "output_type": "execute_result"
    }
   ],
   "source": [
    "df.sample(5)"
   ]
  },
  {
   "cell_type": "code",
   "execution_count": 155,
   "id": "672cd35b",
   "metadata": {},
   "outputs": [
    {
     "data": {
      "text/plain": [
       "0"
      ]
     },
     "execution_count": 155,
     "metadata": {},
     "output_type": "execute_result"
    }
   ],
   "source": [
    "df.duplicated().sum()"
   ]
  },
  {
   "cell_type": "code",
   "execution_count": 156,
   "id": "5426a2e7",
   "metadata": {},
   "outputs": [
    {
     "data": {
      "text/plain": [
       "name                0\n",
       "length              0\n",
       "popularity          0\n",
       "danceability        0\n",
       "acousticness        0\n",
       "energy              0\n",
       "instrumentalness    0\n",
       "liveness            0\n",
       "loudness            0\n",
       "speechiness         0\n",
       "tempo               0\n",
       "valence             0\n",
       "time_signature      0\n",
       "dtype: int64"
      ]
     },
     "execution_count": 156,
     "metadata": {},
     "output_type": "execute_result"
    }
   ],
   "source": [
    "df.isnull().sum()"
   ]
  },
  {
   "cell_type": "code",
   "execution_count": 157,
   "id": "853734f8",
   "metadata": {},
   "outputs": [
    {
     "data": {
      "text/plain": [
       "name                 object\n",
       "length                int64\n",
       "popularity          float64\n",
       "danceability        float64\n",
       "acousticness        float64\n",
       "energy              float64\n",
       "instrumentalness    float64\n",
       "liveness            float64\n",
       "loudness            float64\n",
       "speechiness         float64\n",
       "tempo               float64\n",
       "valence             float64\n",
       "time_signature        int64\n",
       "dtype: object"
      ]
     },
     "execution_count": 157,
     "metadata": {},
     "output_type": "execute_result"
    }
   ],
   "source": [
    "df.dtypes"
   ]
  },
  {
   "cell_type": "code",
   "execution_count": 158,
   "id": "7856c4e1",
   "metadata": {},
   "outputs": [],
   "source": [
    "df.drop(\"name\", axis=1, inplace=True)\n",
    "df.drop(\"popularity\", axis=1, inplace=True)"
   ]
  },
  {
   "cell_type": "markdown",
   "id": "ecd945e3",
   "metadata": {},
   "source": [
    "# Visualization"
   ]
  },
  {
   "cell_type": "code",
   "execution_count": 159,
   "id": "35674e90",
   "metadata": {},
   "outputs": [
    {
     "data": {
      "image/png": "[encoded data removed]",
      "text/plain": [
       "<Figure size 1440x1080 with 12 Axes>"
      ]
     },
     "metadata": {
      "needs_background": "light"
     },
     "output_type": "display_data"
    }
   ],
   "source": [
    "df.hist(figsize = (20,15))\n",
    "plt.show()"
   ]
  },
  {
   "cell_type": "code",
   "execution_count": 160,
   "id": "bd619df0",
   "metadata": {},
   "outputs": [
    {
     "data": {
      "text/plain": [
       "length               32.240000\n",
       "danceability          0.230671\n",
       "acousticness          0.734380\n",
       "energy                0.647800\n",
       "instrumentalness      0.003143\n",
       "liveness              0.149544\n",
       "loudness             -7.168320\n",
       "speechiness           0.161222\n",
       "tempo               122.196380\n",
       "valence               0.628900\n",
       "time_signature        3.980000\n",
       "dtype: float64"
      ]
     },
     "execution_count": 160,
     "metadata": {},
     "output_type": "execute_result"
    }
   ],
   "source": [
    "df.mean()"
   ]
  },
  {
   "cell_type": "code",
   "execution_count": 161,
   "id": "9ddb6ea7",
   "metadata": {},
   "outputs": [
    {
     "data": {
      "text/plain": [
       "<AxesSubplot:>"
      ]
     },
     "execution_count": 161,
     "metadata": {},
     "output_type": "execute_result"
    },
    {
     "data": {
      "image/png": "[encoded data removed]",
      "text/plain": [
       "<Figure size 432x288 with 1 Axes>"
      ]
     },
     "metadata": {
      "needs_background": "light"
     },
     "output_type": "display_data"
    }
   ],
   "source": [
    "df.mean().plot(kind='bar')"
   ]
  },
  {
   "cell_type": "markdown",
   "id": "06c4e405",
   "metadata": {},
   "source": [
    "Scaling down the dataset to provide better insight"
   ]
  },
  {
   "cell_type": "code",
   "execution_count": 162,
   "id": "21964cd7",
   "metadata": {},
   "outputs": [],
   "source": [
    "from sklearn.preprocessing import MinMaxScaler\n",
    "\n",
    "# Creating an instance of the sklearn.preprocessing.MinMaxScaler()\n",
    "scaler = MinMaxScaler()\n",
    "#scaling the whole dataframe\n",
    "scaler=MinMaxScaler()\n",
    "scaler.fit(df)\n",
    "scaled=scaler.fit_transform(df)\n",
    "scaled_df=pd.DataFrame(scaled, columns=df.columns)"
   ]
  },
  {
   "cell_type": "code",
   "execution_count": 163,
   "id": "dffc07f7",
   "metadata": {},
   "outputs": [
    {
     "data": {
      "text/plain": [
       "<AxesSubplot:>"
      ]
     },
     "execution_count": 163,
     "metadata": {},
     "output_type": "execute_result"
    },
    {
     "data": {
      "image/png": "[encoded data removed]",
      "text/plain": [
       "<Figure size 720x504 with 1 Axes>"
      ]
     },
     "metadata": {
      "needs_background": "light"
     },
     "output_type": "display_data"
    }
   ],
   "source": [
    "scaled_df.mean().plot(kind='barh',figsize = (10,7), width = 0.3)"
   ]
  },
  {
   "cell_type": "code",
   "execution_count": 164,
   "id": "a99ce197",
   "metadata": {},
   "outputs": [
    {
     "data": {
      "text/plain": [
       "<AxesSubplot:>"
      ]
     },
     "execution_count": 164,
     "metadata": {},
     "output_type": "execute_result"
    },
    {
     "data": {
      "image/png": "[encoded data removed]",
      "text/plain": [
       "<Figure size 1080x360 with 1 Axes>"
      ]
     },
     "metadata": {
      "needs_background": "light"
     },
     "output_type": "display_data"
    }
   ],
   "source": [
    "scaled_df.mean().plot(kind='bar',figsize = (15,5), width = 0.5)"
   ]
  },
  {
   "cell_type": "markdown",
   "id": "87a3c613",
   "metadata": {},
   "source": [
    "Now to make a comparison with a single track on Spotify"
   ]
  },
  {
   "cell_type": "markdown",
   "id": "90d7dd99",
   "metadata": {},
   "source": [
    "I chose 'Dala Wa' by Mejja released on 21st October 2022 (6days ago)"
   ]
  },
  {
   "cell_type": "code",
   "execution_count": 165,
   "id": "892d3579",
   "metadata": {},
   "outputs": [
    {
     "data": {
      "text/plain": [
       "[{'danceability': 0.686,\n",
       "  'energy': 0.689,\n",
       "  'key': 2,\n",
       "  'loudness': -5.251,\n",
       "  'mode': 1,\n",
       "  'speechiness': 0.188,\n",
       "  'acousticness': 0.273,\n",
       "  'instrumentalness': 0,\n",
       "  'liveness': 0.0588,\n",
       "  'valence': 0.419,\n",
       "  'tempo': 102.056,\n",
       "  'type': 'audio_features',\n",
       "  'id': '3vwCLR1fyjeMCkPFfnfnHL',\n",
       "  'uri': 'spotify:track:3vwCLR1fyjeMCkPFfnfnHL',\n",
       "  'track_href': 'https://api.spotify.com/v1/tracks/3vwCLR1fyjeMCkPFfnfnHL',\n",
       "  'analysis_url': 'https://api.spotify.com/v1/audio-analysis/3vwCLR1fyjeMCkPFfnfnHL',\n",
       "  'duration_ms': 216471,\n",
       "  'time_signature': 4}]"
      ]
     },
     "execution_count": 165,
     "metadata": {},
     "output_type": "execute_result"
    }
   ],
   "source": [
    "#to get features of the Mejja song using the trackID\n",
    "track_features=sp.audio_features('3vwCLR1fyjeMCkPFfnfnHL')\n",
    "track_features"
   ]
  },
  {
   "cell_type": "code",
   "execution_count": 166,
   "id": "82988333",
   "metadata": {},
   "outputs": [
    {
     "data": {
      "text/html": [
       "<div>\n",
       "<style scoped>\n",
       "    .dataframe tbody tr th:only-of-type {\n",
       "        vertical-align: middle;\n",
       "    }\n",
       "\n",
       "    .dataframe tbody tr th {\n",
       "        vertical-align: top;\n",
       "    }\n",
       "\n",
       "    .dataframe thead th {\n",
       "        text-align: right;\n",
       "    }\n",
       "</style>\n",
       "<table border=\"1\" class=\"dataframe\">\n",
       "  <thead>\n",
       "    <tr style=\"text-align: right;\">\n",
       "      <th></th>\n",
       "      <th>danceability</th>\n",
       "      <th>acousticness</th>\n",
       "      <th>energy</th>\n",
       "      <th>instrumentalness</th>\n",
       "      <th>liveness</th>\n",
       "      <th>loudness</th>\n",
       "      <th>speechiness</th>\n",
       "      <th>tempo</th>\n",
       "      <th>valence</th>\n",
       "      <th>duration_ms</th>\n",
       "      <th>time_signature</th>\n",
       "    </tr>\n",
       "  </thead>\n",
       "  <tbody>\n",
       "    <tr>\n",
       "      <th>0</th>\n",
       "      <td>0.686</td>\n",
       "      <td>0.273</td>\n",
       "      <td>0.689</td>\n",
       "      <td>0</td>\n",
       "      <td>0.0588</td>\n",
       "      <td>-5.251</td>\n",
       "      <td>0.188</td>\n",
       "      <td>102.056</td>\n",
       "      <td>0.419</td>\n",
       "      <td>216471</td>\n",
       "      <td>4</td>\n",
       "    </tr>\n",
       "  </tbody>\n",
       "</table>\n",
       "</div>"
      ],
      "text/plain": [
       "   danceability  acousticness  energy  instrumentalness  liveness  loudness  \\\n",
       "0         0.686         0.273   0.689                 0    0.0588    -5.251   \n",
       "\n",
       "   speechiness    tempo  valence  duration_ms  time_signature  \n",
       "0        0.188  102.056    0.419       216471               4  "
      ]
     },
     "execution_count": 166,
     "metadata": {},
     "output_type": "execute_result"
    }
   ],
   "source": [
    "#to put the features in a pandas dataframe\n",
    "single_track_df = pd.DataFrame(track_features, columns = ['danceability', 'acousticness', 'energy', 'instrumentalness', 'liveness', 'loudness', 'speechiness', 'tempo','valence','duration_ms', 'time_signature'])\n",
    "single_track_df"
   ]
  },
  {
   "cell_type": "code",
   "execution_count": 42,
   "id": "3d66c47e",
   "metadata": {},
   "outputs": [
    {
     "name": "stderr",
     "output_type": "stream",
     "text": [
      "V:\\Anaconda\\lib\\site-packages\\sklearn\\preprocessing\\_data.py:461: RuntimeWarning: All-NaN slice encountered\n",
      "  data_min = np.nanmin(X, axis=0)\n",
      "V:\\Anaconda\\lib\\site-packages\\sklearn\\preprocessing\\_data.py:462: RuntimeWarning: All-NaN slice encountered\n",
      "  data_max = np.nanmax(X, axis=0)\n",
      "V:\\Anaconda\\lib\\site-packages\\sklearn\\preprocessing\\_data.py:461: RuntimeWarning: All-NaN slice encountered\n",
      "  data_min = np.nanmin(X, axis=0)\n",
      "V:\\Anaconda\\lib\\site-packages\\sklearn\\preprocessing\\_data.py:462: RuntimeWarning: All-NaN slice encountered\n",
      "  data_max = np.nanmax(X, axis=0)\n"
     ]
    },
    {
     "ename": "NameError",
     "evalue": "name 'scaled_single_track_dfjm' is not defined",
     "output_type": "error",
     "traceback": [
      "\u001b[1;31m---------------------------------------------------------------------------\u001b[0m",
      "\u001b[1;31mNameError\u001b[0m                                 Traceback (most recent call last)",
      "Input \u001b[1;32mIn [42]\u001b[0m, in \u001b[0;36m<cell line: 7>\u001b[1;34m()\u001b[0m\n\u001b[0;32m      5\u001b[0m scaled\u001b[38;5;241m=\u001b[39mscaler\u001b[38;5;241m.\u001b[39mfit_transform(single_track_df)\n\u001b[0;32m      6\u001b[0m scaled_single_track_df\u001b[38;5;241m=\u001b[39mpd\u001b[38;5;241m.\u001b[39mDataFrame(scaled, columns\u001b[38;5;241m=\u001b[39msingle_track_df\u001b[38;5;241m.\u001b[39mcolumns)\n\u001b[1;32m----> 7\u001b[0m \u001b[43mscaled_single_track_dfjm\u001b[49m\n",
      "\u001b[1;31mNameError\u001b[0m: name 'scaled_single_track_dfjm' is not defined"
     ]
    }
   ],
   "source": [
    "from sklearn.preprocessing import MinMaxScaler\n",
    "\n",
    "scaler=MinMaxScaler()\n",
    "scaler.fit(single_track_df)\n",
    "scaled=scaler.fit_transform(single_track_df)\n",
    "scaled_single_track_df=pd.DataFrame(scaled, columns=single_track_df.columns)\n",
    "scaled_single_track_dfjm"
   ]
  },
  {
   "cell_type": "code",
   "execution_count": null,
   "id": "1d0a3763",
   "metadata": {},
   "outputs": [],
   "source": []
  }
 ],
 "metadata": {
  "kernelspec": {
   "display_name": "Python 3 (ipykernel)",
   "language": "python",
   "name": "python3"
  },
  "language_info": {
   "codemirror_mode": {
    "name": "ipython",
    "version": 3
   },
   "file_extension": ".py",
   "mimetype": "text/x-python",
   "name": "python",
   "nbconvert_exporter": "python",
   "pygments_lexer": "ipython3",
   "version": "3.9.12"
  }
 },
 "nbformat": 4,
 "nbformat_minor": 5
}
